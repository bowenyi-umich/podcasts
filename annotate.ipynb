{
 "cells": [
  {
   "cell_type": "code",
   "execution_count": 1,
   "id": "3263f8fa-dcb5-44e9-addc-e8ea3b3977a9",
   "metadata": {},
   "outputs": [],
   "source": [
    "import pandas as pd"
   ]
  },
  {
   "cell_type": "code",
   "execution_count": 2,
   "id": "12f994d0-48fc-4dcc-a654-28c96d04b08d",
   "metadata": {},
   "outputs": [],
   "source": [
    "annotate = pd.read_csv('log_reg_annotate.csv')"
   ]
  },
  {
   "cell_type": "markdown",
   "id": "8c81a8a2-f2f7-4300-b48b-9c2218644dfd",
   "metadata": {},
   "source": [
    "#### Read:"
   ]
  },
  {
   "cell_type": "code",
   "execution_count": 6,
   "id": "f6dd516c-d928-4781-b3fd-3da45fc5df84",
   "metadata": {},
   "outputs": [
    {
     "name": "stdout",
     "output_type": "stream",
     "text": [
      " This is your boy D the Great and you're tuned into me. What up guys? So today is episode 15. Today I'm going to do something a little different. I wanted to do a dedication episode. So this episode is titled Let It Sit Thorn. Thorn is a guy who life was tragically taken from him by some peers of his on September the 4th, 2019. There's a documentary out called Torren T-O-R-I-N. That's the name of the documentary and it's produced by E. Lab Green. The documentary is very touching. It's heart-wrenching. It's like a masterpiece. It gave me chills watching that and definitely guys check it out. Definitely check it out. Definitely check it out.\n"
     ]
    }
   ],
   "source": [
    "num = 0\n",
    "print(annotate['raw_X'][num])"
   ]
  },
  {
   "cell_type": "markdown",
   "id": "de5bb168-8521-4421-9414-012d72063d27",
   "metadata": {},
   "source": [
    "#### Annotate:"
   ]
  },
  {
   "cell_type": "code",
   "execution_count": null,
   "id": "c87ada4b-0601-4525-83d4-a26f440e60e1",
   "metadata": {},
   "outputs": [],
   "source": [
    "annotate.loc[num, 'raw_X'] = "
   ]
  }
 ],
 "metadata": {
  "kernelspec": {
   "display_name": "Python 3 (ipykernel)",
   "language": "python",
   "name": "python3"
  },
  "language_info": {
   "codemirror_mode": {
    "name": "ipython",
    "version": 3
   },
   "file_extension": ".py",
   "mimetype": "text/x-python",
   "name": "python",
   "nbconvert_exporter": "python",
   "pygments_lexer": "ipython3",
   "version": "3.11.5"
  }
 },
 "nbformat": 4,
 "nbformat_minor": 5
}
